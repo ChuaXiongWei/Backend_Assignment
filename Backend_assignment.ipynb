{
 "cells": [
  {
   "cell_type": "code",
   "execution_count": 1,
   "id": "7b50f467-ae9b-404d-b9ac-d34a9a273aab",
   "metadata": {
    "tags": []
   },
   "outputs": [],
   "source": [
    "from flask import Flask, request, jsonify\n",
    "import json\n",
    "import logging\n",
    "import unittest\n",
    "app = Flask(__name__)"
   ]
  },
  {
   "cell_type": "code",
   "execution_count": 2,
   "id": "61e1b5ce-d8aa-496f-9630-2b6f422848d2",
   "metadata": {
    "tags": []
   },
   "outputs": [],
   "source": [
    "# List of JSON objects (hardcoded for simplicity)\n",
    "with open('hard_code.json', 'r') as file:\n",
    "    json_data = json.load(file)"
   ]
  },
  {
   "cell_type": "code",
   "execution_count": 3,
   "id": "4bcb3eb7-f952-4448-8c6c-f1a90fb7da00",
   "metadata": {
    "tags": []
   },
   "outputs": [],
   "source": [
    "# Logger setup\n",
    "logging.basicConfig(filename='backend.log', level=logging.INFO)\n",
    "\n",
    "\n",
    "# Endpoint to get an object based on ID\n",
    "@app.route('/get_object/<int:id>', methods=['GET'])\n",
    "def get_object(id):\n",
    "    for obj in json_data:\n",
    "        if obj['id'] == id:\n",
    "            return jsonify(obj)\n",
    "    return jsonify({'message': 'Object not found'}), 404"
   ]
  },
  {
   "cell_type": "code",
   "execution_count": 4,
   "id": "85d6203e-6004-48e4-a0ca-c427f003f0f4",
   "metadata": {
    "tags": []
   },
   "outputs": [],
   "source": [
    "# Endpoint to add a new object\n",
    "@app.route('/add_object', methods=['POST'])\n",
    "def add_object():\n",
    "    data = request.json\n",
    "    \n",
    "    # Append new object to the list\n",
    "    json_data.append(data)\n",
    "    \n",
    "    # Write updated JSON data back to file\n",
    "    with open('data.json', 'w') as file:\n",
    "        json.dump(json_data, file, indent=4)\n",
    "    \n",
    "    return jsonify({'message': 'Object added successfully'}), 201"
   ]
  },
  {
   "cell_type": "code",
   "execution_count": 5,
   "id": "d1f2e247-b94e-4927-8c84-e9bc276573f9",
   "metadata": {
    "tags": []
   },
   "outputs": [],
   "source": [
    "# Endpoint to delete an object\n",
    "@app.route('/delete_object/<int:id>', methods=['DELETE'])\n",
    "def delete_object(id):\n",
    "    \n",
    "    # Find and remove the object with the specified ID\n",
    "    for obj in json_data:\n",
    "        if obj['id'] == id:\n",
    "            json_data.remove(obj)\n",
    "            # Write updated JSON data back to file\n",
    "            with open('data.json', 'w') as file:\n",
    "                json.dump(json_data, file, indent=4)\n",
    "            return jsonify({'message': 'Object deleted successfully'})\n",
    "    \n",
    "    return jsonify({'message': 'Object not found'}), 404\n"
   ]
  },
  {
   "cell_type": "code",
   "execution_count": 6,
   "id": "28eeea3c-157e-4bba-9bd4-437d964ade49",
   "metadata": {
    "tags": []
   },
   "outputs": [],
   "source": [
    "# Dependency injection for processing added objects\n",
    "class ObjectProcessor:\n",
    "    def process(self, obj):\n",
    "        # For simplicity, just printing the object here\n",
    "        print(\"Processing object:\", obj)"
   ]
  },
  {
   "cell_type": "code",
   "execution_count": 7,
   "id": "b88be76a-27be-42a2-898e-932d2aad9797",
   "metadata": {
    "tags": []
   },
   "outputs": [
    {
     "name": "stderr",
     "output_type": "stream",
     "text": [
      "test_add_object (__main__.TestBackendAPI.test_add_object) ... ok\n",
      "test_delete_object (__main__.TestBackendAPI.test_delete_object) ... ok\n",
      "test_get_object (__main__.TestBackendAPI.test_get_object) ... ok\n",
      "\n",
      "----------------------------------------------------------------------\n",
      "Ran 3 tests in 0.009s\n",
      "\n",
      "OK\n"
     ]
    },
    {
     "data": {
      "text/plain": [
       "<unittest.main.TestProgram at 0x1b935eea110>"
      ]
     },
     "execution_count": 7,
     "metadata": {},
     "output_type": "execute_result"
    }
   ],
   "source": [
    "# Define your unit tests\n",
    "class TestBackendAPI(unittest.TestCase):\n",
    "    def setUp(self):\n",
    "        # Create a test client\n",
    "        self.app = app.test_client()\n",
    "        # Propagate exceptions to the test client\n",
    "        self.app.testing = True\n",
    "\n",
    "    def test_get_object(self):\n",
    "        logging.info(\"Starting test_get_object\")\n",
    "        # Test case for GET /get_object/<id>\n",
    "        response = self.app.get('/get_object/2')\n",
    "        data = response.get_json()\n",
    "        self.assertEqual(response.status_code, 200)\n",
    "        self.assertEqual(data['name'], 'Alice')\n",
    "        self.assertEqual(data['age'], 25)\n",
    "        logging.info(\"Finished test_get_object\")\n",
    "\n",
    "    def test_add_object(self):\n",
    "        logging.info(\"Starting test_add_object\")\n",
    "        # Test case for POST /add_object\n",
    "        new_object = {\"id\": 4, \"name\": \"Sally\", \"age\": 44}\n",
    "        response = self.app.post('/add_object', json=new_object)\n",
    "        self.assertEqual(response.status_code, 201)\n",
    "        # Check if the object was added to the list\n",
    "        self.assertIn(new_object, json_data)\n",
    "        logging.info(\"Finished test_add_object\")\n",
    "\n",
    "    def test_delete_object(self):\n",
    "        logging.info(\"Starting test_delete_object\")\n",
    "        # Test case for DELETE /delete_object/<id>\n",
    "        response = self.app.delete('/delete_object/3')\n",
    "        self.assertEqual(response.status_code, 200)\n",
    "        # Check if the object was deleted from the list\n",
    "        self.assertNotIn({\"id\": 3, \"name\": \"Bob\", \"age\": 35}, json_data)\n",
    "        logging.info(\"Finished test_delete_object\")\n",
    "        \n",
    "    def tearDown(self):\n",
    "        # Clean up resources\n",
    "        logging.shutdown()\n",
    "\n",
    "# Run the unit tests\n",
    "unittest.main(argv=[''], verbosity=2, exit=False)\n"
   ]
  },
  {
   "cell_type": "code",
   "execution_count": 8,
   "id": "712b7906-2f2a-408e-a359-a553a2829ac2",
   "metadata": {
    "tags": []
   },
   "outputs": [
    {
     "name": "stdout",
     "output_type": "stream",
     "text": [
      "[{'id': 1, 'name': 'John', 'age': 30}, {'id': 2, 'name': 'Alice', 'age': 25}, {'age': 44, 'id': 4, 'name': 'Sally'}]\n"
     ]
    }
   ],
   "source": [
    "print(json_data)"
   ]
  },
  {
   "cell_type": "code",
   "execution_count": null,
   "id": "1c0e0827-bba5-417b-8115-b0a1a71ae3e9",
   "metadata": {},
   "outputs": [],
   "source": []
  }
 ],
 "metadata": {
  "kernelspec": {
   "display_name": "Python 3 (ipykernel)",
   "language": "python",
   "name": "python3"
  },
  "language_info": {
   "codemirror_mode": {
    "name": "ipython",
    "version": 3
   },
   "file_extension": ".py",
   "mimetype": "text/x-python",
   "name": "python",
   "nbconvert_exporter": "python",
   "pygments_lexer": "ipython3",
   "version": "3.11.4"
  }
 },
 "nbformat": 4,
 "nbformat_minor": 5
}
